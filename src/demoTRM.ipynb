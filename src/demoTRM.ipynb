{
 "cells": [
  {
   "cell_type": "code",
   "id": "initial_id",
   "metadata": {
    "collapsed": true,
    "ExecuteTime": {
     "end_time": "2025-10-14T05:04:46.315590Z",
     "start_time": "2025-10-14T05:04:46.130990Z"
    }
   },
   "source": [
    "import torch\n",
    "from tqdm import tqdm as notebook_tqdm\n",
    "from tiny_recursive_model import TinyRecursiveModel, MLPMixer1D, Trainer\n",
    "\n",
    "trm = TinyRecursiveModel(\n",
    "    dim = 16,\n",
    "    num_tokens = 256,\n",
    "    network = MLPMixer1D(\n",
    "        dim = 16,\n",
    "        depth = 2,\n",
    "        seq_len = 256\n",
    "    ),\n",
    ")\n",
    "\n",
    "# mock dataset\n",
    "\n",
    "from torch.utils.data import Dataset\n",
    "class MockDataset(Dataset):\n",
    "    def __len__(self):\n",
    "        return 16\n",
    "\n",
    "    def __getitem__(self, idx):\n",
    "        inp = torch.randint(0, 256, (256,))\n",
    "        out = torch.randint(0, 256, (256,))\n",
    "        return inp, out\n",
    "\n",
    "mock_dataset = MockDataset()\n",
    "\n",
    "# trainer\n",
    "\n",
    "trainer = Trainer(\n",
    "    trm,\n",
    "    mock_dataset,\n",
    "    epochs = 1,\n",
    "    batch_size = 16,\n",
    "    cpu = True\n",
    ")\n",
    "\n",
    "trainer()\n",
    "\n",
    "# inference\n",
    "\n",
    "pred_answer, exit_indices = trm.predict(\n",
    "    torch.randint(0, 256, (1, 256)),\n",
    "    max_deep_refinement_steps = 12,\n",
    "    halt_prob_thres = 0.1\n",
    ")\n",
    "\n",
    "# save to collection of specialized networks for tool call\n",
    "\n",
    "torch.save(trm.state_dict(), 'saved-trm.pt')\n"
   ],
   "outputs": [
    {
     "name": "stdout",
     "output_type": "stream",
     "text": [
      "[1 (1 / 12)] loss: 5.711 | halt loss: 0.744\n",
      "complete\n"
     ]
    }
   ],
   "execution_count": 2
  }
 ],
 "metadata": {
  "kernelspec": {
   "display_name": "Python 3",
   "language": "python",
   "name": "python3"
  },
  "language_info": {
   "codemirror_mode": {
    "name": "ipython",
    "version": 2
   },
   "file_extension": ".py",
   "mimetype": "text/x-python",
   "name": "python",
   "nbconvert_exporter": "python",
   "pygments_lexer": "ipython2",
   "version": "2.7.6"
  }
 },
 "nbformat": 4,
 "nbformat_minor": 5
}
