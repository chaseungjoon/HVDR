{
 "cells": [
  {
   "cell_type": "code",
   "id": "initial_id",
   "metadata": {
    "collapsed": true,
    "ExecuteTime": {
     "end_time": "2025-09-28T05:05:03.554869Z",
     "start_time": "2025-09-28T05:05:02.923907Z"
    }
   },
   "source": [
    "import torch.nn as nn\n",
    "\n",
    "class DemoHRM(nn.Module):\n",
    "    \"\"\"Simplified demo version of HRM for demonstration\"\"\"\n",
    "    def __init__(self, hidden_size=512, num_layers=6, vocab_size=1000):\n",
    "        super().__init__()\n",
    "        self.hidden_size = hidden_size\n",
    "        self.num_layers = num_layers\n",
    "        self.vocab_size = vocab_size\n",
    "\n",
    "        # Hierarchical components\n",
    "        self.embedding = nn.Embedding(vocab_size, hidden_size)\n",
    "        self.high_level_module = nn.LSTM(hidden_size, hidden_size, num_layers//2, batch_first=True)\n",
    "        self.low_level_module = nn.LSTM(hidden_size, hidden_size, num_layers//2, batch_first=True)\n",
    "        self.output_projection = nn.Linear(hidden_size, vocab_size)\n",
    "\n",
    "        # Multi-scale processing\n",
    "        self.cross_attention = nn.MultiheadAttention(hidden_size, 8, batch_first=True)\n",
    "        self.layer_norm = nn.LayerNorm(hidden_size)\n",
    "\n",
    "    def forward(self, x):\n",
    "        # Embed input\n",
    "        embedded = self.embedding(x)\n",
    "\n",
    "        # High-level abstract processing (slow timescale)\n",
    "        high_level_out, _ = self.high_level_module(embedded)\n",
    "\n",
    "        # Low-level detailed processing (fast timescale)\n",
    "        low_level_out, _ = self.low_level_module(embedded)\n",
    "\n",
    "        # Cross-module attention (hierarchical reasoning)\n",
    "        attended_out, _ = self.cross_attention(\n",
    "            low_level_out, high_level_out, high_level_out\n",
    "        )\n",
    "\n",
    "        # Layer normalization and output\n",
    "        normalized = self.layer_norm(attended_out + low_level_out)\n",
    "        output = self.output_projection(normalized)\n",
    "\n",
    "        return output"
   ],
   "outputs": [],
   "execution_count": 1
  },
  {
   "metadata": {},
   "cell_type": "code",
   "outputs": [],
   "execution_count": null,
   "source": "",
   "id": "58a3be2d3c3977ae"
  }
 ],
 "metadata": {
  "kernelspec": {
   "display_name": "Python 3",
   "language": "python",
   "name": "python3"
  },
  "language_info": {
   "codemirror_mode": {
    "name": "ipython",
    "version": 2
   },
   "file_extension": ".py",
   "mimetype": "text/x-python",
   "name": "python",
   "nbconvert_exporter": "python",
   "pygments_lexer": "ipython2",
   "version": "2.7.6"
  }
 },
 "nbformat": 4,
 "nbformat_minor": 5
}
